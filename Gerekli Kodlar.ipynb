{
 "cells": [
  {
   "cell_type": "markdown",
   "id": "9e11c84a",
   "metadata": {},
   "source": [
    "# Klasör var mı? Yoksa Oluştur"
   ]
  },
  {
   "cell_type": "code",
   "execution_count": null,
   "id": "97e52177",
   "metadata": {},
   "outputs": [],
   "source": [
    "isExist = os.path.exists(kayitYeri)\n",
    "if not isExist:\n",
    "    os.makedirs(kayitYeri)\n",
    "    print(\"Yeni Klasör Oluşturuldu!\")"
   ]
  },
  {
   "cell_type": "markdown",
   "id": "810b8d62",
   "metadata": {},
   "source": [
    "# Klasördeki görüntüleri listelemek"
   ]
  },
  {
   "cell_type": "code",
   "execution_count": null,
   "id": "b45c2b9d",
   "metadata": {},
   "outputs": [],
   "source": [
    "stack_= []\n",
    "\n",
    "for root, dirname, files in os.walk(klasor):\n",
    "    for x in files:\n",
    "        isim=(root+'\\\\'+x)\n",
    "        if isim[-4:]=='.tif':\n",
    "            stack_.append(isim)"
   ]
  },
  {
   "cell_type": "markdown",
   "id": "ae1631b3",
   "metadata": {},
   "source": [
    "# Klasör isimlerini listelemek için"
   ]
  },
  {
   "cell_type": "code",
   "execution_count": null,
   "id": "d18ea689",
   "metadata": {},
   "outputs": [],
   "source": [
    "klasor = r\"J:\\2021_TUBITAK_sorgum\\2020v2\\ham\\saved\\3BSI\"\n",
    "for root, dirname, files in os.walk(klasor):\n",
    "    #print(root)\n",
    "    if root[-6:]==\"filtre\":\n",
    "        print(root.split(\"\\\\\")[-2])"
   ]
  },
  {
   "cell_type": "code",
   "execution_count": null,
   "id": "625cac24",
   "metadata": {},
   "outputs": [],
   "source": [
    "# Klasörlerdeki Görüntülerin Silinmesi"
   ]
  },
  {
   "cell_type": "code",
   "execution_count": null,
   "id": "7db4bb11",
   "metadata": {},
   "outputs": [],
   "source": [
    "klasor = r\"J:\\2021_TUBITAK_sorgum\\2020v2\\ham\\saved\\3BSI\"\n",
    "path= []\n",
    "path_ts= []\n",
    "\n",
    "for root, dirname, files in os.walk(klasor):\n",
    "    for x in files:\n",
    "        isim=(root+'\\\\'+x)\n",
    "        if isim[-4:]=='.tif':\n",
    "            path.append(isim)\n",
    "            \n",
    "for i in range(len(path)):\n",
    "    os.remove(path[i])\n",
    "print(\"Ok\")"
   ]
  },
  {
   "cell_type": "markdown",
   "id": "bcbbbfa4",
   "metadata": {},
   "source": [
    "# Dosya Adını ve Adresini Çekmek"
   ]
  },
  {
   "cell_type": "code",
   "execution_count": null,
   "id": "817cd115",
   "metadata": {},
   "outputs": [],
   "source": [
    "head, tail = os.path.split(stack_[i]) #dosya adını çekiyor"
   ]
  },
  {
   "cell_type": "markdown",
   "id": "17ee06db",
   "metadata": {},
   "source": [
    "# Dosyaları başka klasöre taşımak"
   ]
  },
  {
   "cell_type": "code",
   "execution_count": null,
   "id": "fd50e11d",
   "metadata": {},
   "outputs": [],
   "source": [
    "kayitYeri= r\"D:\\pytseb\\uav-metric\\METRIC\\ETd\"\n",
    "isExist = os.path.exists(kayitYeri)\n",
    "if not isExist:\n",
    "    os.makedirs(kayitYeri)\n",
    "    print(\"Yeni Klasör Oluşturuldu!\")\n",
    "    \n",
    "stack_= []\n",
    "\n",
    "for root, dirname, files in os.walk(kayitYeri[:-4]):\n",
    "    for x in files:\n",
    "        isim=(root+'\\\\'+x)\n",
    "        if isim[-12:]=='ET_daily.tif':\n",
    "            stack_.append(isim)\n",
    "\n",
    "\n",
    "for i in range(len(stack_)):\n",
    "    shutil.move(stack_[i], kayitYeri )\n",
    "print(\"Tamamlandı\")"
   ]
  },
  {
   "cell_type": "markdown",
   "id": "7065ce23",
   "metadata": {},
   "source": [
    "# Parsel Ortalamaları"
   ]
  },
  {
   "cell_type": "code",
   "execution_count": null,
   "id": "f54cf784",
   "metadata": {},
   "outputs": [],
   "source": [
    "from tqdm import tqdm\n",
    "klasor = r\"D:\\pytseb\\images\\2021\\kalibre-TSEB\\dailyET\"\n",
    "path= []\n",
    "\n",
    "\n",
    "for root, dirname, files in os.walk(klasor):\n",
    "    for x in files:\n",
    "        isim=(root+'\\\\'+x)\n",
    "        if isim[-8:]=='_ETd.tif':\n",
    "            path.append(isim)\n",
    "            \n",
    "len(path)\n",
    "\n",
    "\n",
    "#shp=r\"J:\\2021_TUBITAK_sorgum\\2020v2\\shp\\2020_sorgum_parseller.shp\"    #2020\n",
    "shp=r\"J:\\2021_TUBITAK_sorgum\\2021v2\\ham\\SHP\\2021_sorgum_alfabetik.shp\" #2021\n",
    "\n",
    "\n",
    "head, tail = os.path.split(path[0]) #dosya adını çekiyor\n",
    "tail[:]\n",
    "\n",
    "#kayitYeri= r\"J:\\2021_TUBITAK_sorgum\\Altum_2021_paket\\deneme\\emis\"\n",
    "kayitYeri= r\"D:\\pytseb\\images\\2021\\kalibre-TSEB\\dailyET\"\n",
    "#kayitYeri= r\"J:\\2021_TUBITAK_sorgum\\2020v2\\ham\\saved\"\n",
    "\n",
    "for i in tqdm(range(0,len(path)), colour=\"#00ff00\"):\n",
    "    \n",
    "    head, tail = os.path.split(path[i]) #dosya adını çekiyor\n",
    "    \n",
    "    m=zonal_stats(shp, path[i] ,stats=\"mean\")\n",
    "\n",
    "\n",
    "\n",
    "    dframe=pd.DataFrame(m) \n",
    "    dframe.rename(columns={'mean':str(tail[:])}, inplace=True)\n",
    "\n",
    "\n",
    "\n",
    "    dframe.to_csv(kayitYeri+'/'+tail[:-4]+\".txt\",sep=\"-\",index=False) #index değerlerini kaldırmak için False\n",
    "    #dframe.to_excel(kayitYeri+'/'+tail[:-4]+\".xlsx\", index=False)\n",
    "\n",
    "file_ndvi = glob.glob(os.path.join(kayitYeri+ \"\\*_ETd.txt\"))\n",
    "combined_ndvi_csv= pd.concat([pd.read_csv(f, sep=\"-\") for f in file_ndvi], axis=1)\n",
    "combined_ndvi_csv.index = combined_ndvi_csv.index + 1\n",
    "\n",
    "    \n",
    "\"\"\"    \n",
    "file_ndvi = glob.glob(os.path.join(kayitYeri+ \"\\*3BSI-NDVI.txt\"))\n",
    "combined_ndvi_csv= pd.concat([pd.read_csv(f, sep=\"-\") for f in file_ndvi], axis=1)\n",
    "combined_ndvi_csv.index = combined_ndvi_csv.index + 1\n",
    "\n",
    "file_savi = glob.glob(os.path.join(kayitYeri+ \"\\*3BSI-SAVI.txt\"))\n",
    "combined_savi_csv= pd.concat([pd.read_csv(f, sep=\"-\") for f in file_savi], axis=1)\n",
    "combined_savi_csv.index = combined_savi_csv.index + 1\n",
    "\n",
    "file_sr = glob.glob(os.path.join(kayitYeri+ \"\\*3BSI-SR.txt\"))\n",
    "combined_sr_csv= pd.concat([pd.read_csv(f, sep=\"-\") for f in file_sr], axis=1)\n",
    "combined_sr_csv.index = combined_sr_csv.index + 1\n",
    "\n",
    "file_evi = glob.glob(os.path.join(kayitYeri+ \"\\*3BSI-EVI.txt\"))\n",
    "combined_evi_csv= pd.concat([pd.read_csv(f, sep=\"-\") for f in file_evi], axis=1)\n",
    "combined_evi_csv.index = combined_evi_csv.index + 1\n",
    "\n",
    "file_ndre = glob.glob(os.path.join(kayitYeri+ \"\\*3BSI-NDRE.txt\"))\n",
    "combined_ndre_csv= pd.concat([pd.read_csv(f, sep=\"-\") for f in file_ndre], axis=1)\n",
    "combined_ndre_csv.index = combined_ndre_csv.index + 1\n",
    "\n",
    "\n",
    "file_wdi_ndvi = glob.glob(os.path.join(kayitYeri+ \"\\*WDI-NDVI.txt\"))\n",
    "combined_wdi_ndvi_csv= pd.concat([pd.read_csv(f, sep=\"-\") for f in file_wdi_ndvi], axis=1)\n",
    "combined_wdi_ndvi_csv.index = combined_wdi_ndvi_csv.index + 1\n",
    "\n",
    "file_wdi_savi = glob.glob(os.path.join(kayitYeri+ \"\\*WDI-SAVI.txt\"))\n",
    "combined_wdi_savi_csv= pd.concat([pd.read_csv(f, sep=\"-\") for f in file_wdi_savi], axis=1)\n",
    "combined_wdi_savi_csv.index = combined_wdi_savi_csv.index + 1\n",
    "\n",
    "file_wdi_sr = glob.glob(os.path.join(kayitYeri+ \"\\*WDI-SR.txt\"))\n",
    "combined_wdi_sr_csv= pd.concat([pd.read_csv(f, sep=\"-\") for f in file_wdi_sr], axis=1)\n",
    "combined_wdi_sr_csv.index = combined_wdi_sr_csv.index + 1\n",
    "\n",
    "file_wdi_evi = glob.glob(os.path.join(kayitYeri+ \"\\*WDI-EVI.txt\"))\n",
    "combined_wdi_evi_csv= pd.concat([pd.read_csv(f, sep=\"-\") for f in file_wdi_evi], axis=1)\n",
    "combined_wdi_evi_csv.index = combined_wdi_evi_csv.index + 1\n",
    "\n",
    "file_wdi_ndre = glob.glob(os.path.join(kayitYeri+ \"\\*WDI-NDRE.txt\"))\n",
    "combined_wdi_ndre_csv= pd.concat([pd.read_csv(f, sep=\"-\") for f in file_wdi_ndre], axis=1)\n",
    "combined_wdi_ndre_csv.index = combined_wdi_ndre_csv.index + 1\n",
    "\n",
    "file_cwsi = glob.glob(os.path.join(kayitYeri+ \"\\*CWSI.txt\"))\n",
    "combined_cwsi= pd.concat([pd.read_csv(f, sep=\"-\") for f in file_cwsi], axis=1)\n",
    "combined_cwsi.index = combined_cwsi.index + 1\n",
    "\"\"\"\n",
    "\n",
    "writer = pd.ExcelWriter(kayitYeri+'/'+'2021-TSEB.xlsx', engine='xlsxwriter')   #dosya adı\n",
    "\n",
    "combined_ndvi_csv.to_excel(writer,sheet_name='2021-TSEB')\n",
    "\"\"\"\n",
    "combined_ndvi_csv.to_excel(writer,sheet_name='3BSI-NDVI')\n",
    "combined_savi_csv.to_excel(writer,sheet_name='3BSI-SAVI')\n",
    "combined_sr_csv.to_excel(writer,sheet_name='3BSI-SR')\n",
    "combined_evi_csv.to_excel(writer,sheet_name='3BSI-EVI')\n",
    "combined_ndre_csv.to_excel(writer,sheet_name='3BSI-NDRE')\n",
    "\n",
    "combined_wdi_ndvi_csv.to_excel(writer,sheet_name='WDI-NDVI')\n",
    "combined_wdi_savi_csv.to_excel(writer,sheet_name='WDI-SAVI')\n",
    "combined_wdi_sr_csv.to_excel(writer,sheet_name='WDI-SR')\n",
    "combined_wdi_evi_csv.to_excel(writer,sheet_name='WDI-EVI')\n",
    "combined_wdi_ndre_csv.to_excel(writer,sheet_name='WDI-NDRE')\n",
    "\n",
    "combined_cwsi.to_excel(writer,sheet_name='CWSI')\"\"\"\n",
    "\n",
    "\n",
    "writer.save()\n",
    "\n",
    "for i in glob.glob(os.path.join(kayitYeri+\"\\*.txt\")):\n",
    "    os.remove(i)\n",
    "\n",
    "print(\"Tamamlandı\")  "
   ]
  }
 ],
 "metadata": {
  "kernelspec": {
   "display_name": "Python 3 (ipykernel)",
   "language": "python",
   "name": "python3"
  },
  "language_info": {
   "codemirror_mode": {
    "name": "ipython",
    "version": 3
   },
   "file_extension": ".py",
   "mimetype": "text/x-python",
   "name": "python",
   "nbconvert_exporter": "python",
   "pygments_lexer": "ipython3",
   "version": "3.9.7"
  }
 },
 "nbformat": 4,
 "nbformat_minor": 5
}
